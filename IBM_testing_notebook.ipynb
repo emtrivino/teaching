{
 "cells": [
  {
   "cell_type": "markdown",
   "id": "7663dfdc",
   "metadata": {},
   "source": [
    "# IBM testing"
   ]
  },
  {
   "cell_type": "markdown",
   "id": "0ae9dda6",
   "metadata": {},
   "source": [
    "## Introduction\n",
    "This notebook includes exercises related to data science tools and techniques."
   ]
  },
  {
   "cell_type": "markdown",
   "id": "0d262c5f",
   "metadata": {},
   "source": [
    "## Data Science Languages\n",
    "1. Python\n",
    "2. R\n",
    "3. SQL"
   ]
  },
  {
   "cell_type": "markdown",
   "id": "064ee12d",
   "metadata": {},
   "source": [
    "## Data Science Libraries\n",
    "1. NumPy\n",
    "2. pandas\n",
    "3. Matplotlib\n",
    "4. Scikit-learn"
   ]
  },
  {
   "cell_type": "markdown",
   "id": "38d6c7bf",
   "metadata": {},
   "source": [
    "| Herramienta   | Descripción                                                                                            | Casos de Uso Típicos                                               |\n",
    "|---------------|--------------------------------------------------------------------------------------------------------|-----------------------------------------------------------------|\n",
    "| NumPy         | Biblioteca para cálculos numéricos en Python. Soporta arrays y matrices, y ofrece funciones matemáticas. | Operaciones numéricas, álgebra lineal, transformadas de Fourier       |\n",
    "| pandas        | Biblioteca poderosa para manipulación y análisis de datos. Proporciona estructuras como DataFrame. | Limpieza, manipulación y análisis de datos                      |\n",
    "| Matplotlib    | Biblioteca para crear visualizaciones estáticas, animadas e interactivas en Python.             | Visualización de datos, creación de gráficos y diagramas                  |\n",
    "| Seaborn       | Biblioteca de visualización de datos estadísticos basada en Matplotlib. Ofrece una interfaz de alto nivel. | Visualización de datos estadísticos, gráficos avanzados         |\n",
    "| SciPy         | Biblioteca de código abierto para computación científica y técnica. Amplía NumPy con más funciones. | Computación científica, procesamiento de señales, optimización          |\n",
    "| Scikit-learn  | Biblioteca de aprendizaje automático para Python. Incluye algoritmos de clasificación, regresión y clustering. | Aprendizaje automático, modelado predictivo, minería de datos             |\n",
    "| TensorFlow    | Biblioteca de aprendizaje automático desarrollada por Google. Especialmente para redes neuronales. | Aprendizaje profundo, redes neuronales, aprendizaje automático a gran escala   |\n",
    "| Keras         | API de redes neuronales de alto nivel, escrita en Python, puede ejecutarse sobre TensorFlow, CNTK o Theano. | Aprendizaje profundo, redes neuronales, prototipos rápidos              |\n",
    "| PyTorch       | Biblioteca de aprendizaje automático de código abierto desarrollada por Facebook. Usada en procesamiento de lenguaje natural. | Aprendizaje profundo, redes neuronales, gráficos computacionales dinámicos   |\n",
    "| Statsmodels   | Biblioteca para estimar y probar modelos estadísticos. Proporciona clases y funciones para muchos modelos estadísticos. | Modelado estadístico, pruebas de hipótesis, exploración de datos     |\n",
    "| NLTK          | Toolkit para trabajar con datos de lenguaje humano (texto) en Python. Proporciona interfaces a más de 50 corpus y recursos léxicos. | Procesamiento de lenguaje natural, minería de texto, análisis de datos lingüísticos |\n",
    "| SpaCy         | Biblioteca de procesamiento de lenguaje natural avanzada, diseñada para uso en producción. Ofrece herramientas eficientes y fáciles de usar. | Procesamiento de lenguaje natural, extracción de información, análisis de texto |\n",
    "| Plotly        | Biblioteca de gráficos que permite crear gráficos interactivos y de calidad publicable en línea. | Visualización interactiva de datos, creación de paneles web  |\n",
    "| Bokeh         | Biblioteca de visualización interactiva dirigida a navegadores web modernos. Permite construir aplicaciones interactivas. | Visualizaciones interactivas, paneles de datos en tiempo real          |\n",
    "| Gensim        | Biblioteca para modelado de temas y análisis de similitud de documentos. Diseñada para algoritmos de aprendizaje no supervisado. | Modelado de temas, análisis de similitud de documentos, procesamiento de lenguaje natural |\n"
   ]
  },
  {
   "cell_type": "markdown",
   "id": "8b6fe362",
   "metadata": {},
   "source": [
    "## Arithmetic Expression Examples"
   ]
  },
  {
   "cell_type": "code",
   "execution_count": null,
   "id": "07064640",
   "metadata": {},
   "outputs": [],
   "source": [
    "# Multiply and add numbers\n",
    "result = 3 * 4 + 5\n",
    "result"
   ]
  },
  {
   "cell_type": "code",
   "execution_count": null,
   "id": "d22ec77f",
   "metadata": {},
   "outputs": [],
   "source": [
    "# Convert minutes to hours\n",
    "minutes = 150\n",
    "hours = minutes / 60\n",
    "hours"
   ]
  },
  {
   "cell_type": "markdown",
   "id": "ed22bc65",
   "metadata": {},
   "source": [
    "## Objectives\n",
    "\n",
    "- Learn basic Python syntax\n",
    "- Understand arithmetic operations\n",
    "- Get familiar with Jupyter notebook"
   ]
  },
  {
   "cell_type": "markdown",
   "id": "d9c92f50",
   "metadata": {},
   "source": [
    "**Author:** Eduards Triviño"
   ]
  }
 ],
 "metadata": {},
 "nbformat": 4,
 "nbformat_minor": 5
}
